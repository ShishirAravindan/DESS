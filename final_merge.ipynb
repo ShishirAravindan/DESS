{
 "cells": [
  {
   "cell_type": "code",
   "execution_count": 7,
   "metadata": {},
   "outputs": [],
   "source": [
    "import pandas as pd\n",
    "import numpy as np\n",
    "import pyarrow as pa\n"
   ]
  },
  {
   "cell_type": "code",
   "execution_count": null,
   "metadata": {},
   "outputs": [],
   "source": [
    "df_masterFile = pd.read_parquet('upload.parquet', engine='pyarrow')\n",
    "#I want to locate the  row in the dataframe where id_name is equal to 'James Turbett'\n",
    "df_masterFile.loc[df_masterFile['fullid']==197475.0]\n"
   ]
  },
  {
   "cell_type": "code",
   "execution_count": null,
   "metadata": {},
   "outputs": [],
   "source": [
    "df_uncompleted = pd.read_parquet('uncompleted.parquet',engine='pyarrow')\n",
    "df_remaining = df_uncompleted[48800:len(df_uncompleted)//2]\n",
    "df_completed  = pd.read_parquet('merged_complete.parquet',engine='pyarrow')\n",
    "len(df_remaining)"
   ]
  },
  {
   "cell_type": "code",
   "execution_count": null,
   "metadata": {},
   "outputs": [],
   "source": [
    "completeA = df_remaining[df_remaining['rawText'].notnull()]\n",
    "incompleteA = df_remaining[df_remaining['rawText'].isnull()]\n",
    "len(completeA)"
   ]
  },
  {
   "cell_type": "code",
   "execution_count": null,
   "metadata": {},
   "outputs": [],
   "source": [
    "completeA.to_parquet('tobeProcessed.parquet', engine='pyarrow')"
   ]
  },
  {
   "cell_type": "code",
   "execution_count": null,
   "metadata": {},
   "outputs": [],
   "source": [
    "df_processed = pd.read_parquet('processed.parquet',engine='pyarrow')\n",
    "df_processed"
   ]
  },
  {
   "cell_type": "code",
   "execution_count": null,
   "metadata": {},
   "outputs": [],
   "source": [
    "def getStats(path:str):\n",
    "    df = pd.read_parquet(path,engine='pyarrow')\n",
    "    print('Total Number of Records:',len(df))\n",
    "    df_isProfessor =df[(df['isProfessor']==True)]\n",
    "    print('Number of Professors:',len(df_isProfessor))\n",
    "    df_isProfessorWithDept =  df[(df['isProfessor']==True) & (df['department']!='MISSING')]\n",
    "    print('Number of Professors with Department:',len(df_isProfessorWithDept))\n",
    "    df_isProfessorWithoutDept =  df[(df['isProfessor']==True) & (df['department']=='MISSING')]\n",
    "    print('Number of Professors without Department:',len(df_isProfessorWithoutDept))\n",
    "    print('=====================================')\n",
    "    print('Percentage of Professors with Department:',len(df_isProfessorWithDept)/len(df_isProfessor)*100)\n",
    "    print('Percentage of Professors without Department:',len(df_isProfessorWithoutDept)/len(df_isProfessor)*100)\n",
    "    print('=====================================')\n",
    "    "
   ]
  },
  {
   "cell_type": "code",
   "execution_count": null,
   "metadata": {},
   "outputs": [],
   "source": [
    "getStats('processed.parquet')"
   ]
  },
  {
   "cell_type": "code",
   "execution_count": null,
   "metadata": {},
   "outputs": [],
   "source": [
    "def mergeToMaster(path:str):\n",
    "    df = pd.read_parquet(path,engine='pyarrow')\n",
    "    df_masterFile = pd.read_parquet('upload.parquet', engine='pyarrow')\n",
    "    # I want to append the new data which maintains the alphabetical order of the id_name column of the master file\n",
    "    df_masterFile = pd.concat([df_masterFile,df]).sort_values(by='id_name')\n",
    "    df_masterFile.to_parquet('upload2.parquet', engine='pyarrow')\n",
    "    print('Merged Successfully')"
   ]
  },
  {
   "cell_type": "code",
   "execution_count": null,
   "metadata": {},
   "outputs": [],
   "source": [
    "mergeToMaster('processed.parquet')"
   ]
  },
  {
   "cell_type": "code",
   "execution_count": null,
   "metadata": {},
   "outputs": [],
   "source": [
    "df_masterFile = pd.read_parquet('upload2.parquet', engine='pyarrow')\n",
    "df_masterFile"
   ]
  },
  {
   "cell_type": "code",
   "execution_count": 36,
   "metadata": {},
   "outputs": [
    {
     "name": "stdout",
     "output_type": "stream",
     "text": [
      "Total Number of Records: 212454\n",
      "Number of Professors: 157107\n",
      "Number of Professors with Department: 127893\n",
      "Number of Professors without Department: 29214\n",
      "=====================================\n",
      "Percentage of Professors with Department: 81.40502969313907\n",
      "Percentage of Professors without Department: 18.59497030686093\n",
      "=====================================\n"
     ]
    }
   ],
   "source": [
    "getStats('comple.parquet')"
   ]
  },
  {
   "cell_type": "markdown",
   "metadata": {},
   "source": []
  },
  {
   "cell_type": "code",
   "execution_count": 9,
   "metadata": {},
   "outputs": [
    {
     "data": {
      "text/html": [
       "<div>\n",
       "<style scoped>\n",
       "    .dataframe tbody tr th:only-of-type {\n",
       "        vertical-align: middle;\n",
       "    }\n",
       "\n",
       "    .dataframe tbody tr th {\n",
       "        vertical-align: top;\n",
       "    }\n",
       "\n",
       "    .dataframe thead th {\n",
       "        text-align: right;\n",
       "    }\n",
       "</style>\n",
       "<table border=\"1\" class=\"dataframe\">\n",
       "  <thead>\n",
       "    <tr style=\"text-align: right;\">\n",
       "      <th></th>\n",
       "      <th>id_text</th>\n",
       "      <th>id_name</th>\n",
       "      <th>id_university</th>\n",
       "      <th>isProfessor</th>\n",
       "      <th>isProfessor2</th>\n",
       "      <th>rawText</th>\n",
       "      <th>department</th>\n",
       "    </tr>\n",
       "  </thead>\n",
       "  <tbody>\n",
       "    <tr>\n",
       "      <th>0</th>\n",
       "      <td>university of california-berkeley</td>\n",
       "      <td></td>\n",
       "      <td>university of california-berkeley</td>\n",
       "      <td>None</td>\n",
       "      <td>None</td>\n",
       "      <td>[Get step-by-step guidance through the applica...</td>\n",
       "      <td></td>\n",
       "    </tr>\n",
       "    <tr>\n",
       "      <th>1</th>\n",
       "      <td>Aditya purdue university-main campus</td>\n",
       "      <td>Aditya</td>\n",
       "      <td>purdue university-main campus</td>\n",
       "      <td>None</td>\n",
       "      <td>None</td>\n",
       "      <td>[Aditya Anand Singh, Graduate Student // Polit...</td>\n",
       "      <td></td>\n",
       "    </tr>\n",
       "    <tr>\n",
       "      <th>2</th>\n",
       "      <td>Adler purdue university-main campus</td>\n",
       "      <td>Adler</td>\n",
       "      <td>purdue university-main campus</td>\n",
       "      <td>None</td>\n",
       "      <td>None</td>\n",
       "      <td>[Purdue University College of Science. Purdue ...</td>\n",
       "      <td></td>\n",
       "    </tr>\n",
       "    <tr>\n",
       "      <th>3</th>\n",
       "      <td>Aguilera the university of texas at el paso</td>\n",
       "      <td>Aguilera</td>\n",
       "      <td>the university of texas at el paso</td>\n",
       "      <td>None</td>\n",
       "      <td>None</td>\n",
       "      <td>[Aguilera earned his BS and MS degrees in Micr...</td>\n",
       "      <td></td>\n",
       "    </tr>\n",
       "    <tr>\n",
       "      <th>4</th>\n",
       "      <td>Ahuja purdue university-main campus</td>\n",
       "      <td>Ahuja</td>\n",
       "      <td>purdue university-main campus</td>\n",
       "      <td>None</td>\n",
       "      <td>None</td>\n",
       "      <td>[Education: Purdue University - The Graduate S...</td>\n",
       "      <td></td>\n",
       "    </tr>\n",
       "    <tr>\n",
       "      <th>...</th>\n",
       "      <td>...</td>\n",
       "      <td>...</td>\n",
       "      <td>...</td>\n",
       "      <td>...</td>\n",
       "      <td>...</td>\n",
       "      <td>...</td>\n",
       "      <td>...</td>\n",
       "    </tr>\n",
       "    <tr>\n",
       "      <th>7995</th>\n",
       "      <td>Andrea Weiss cuny city college</td>\n",
       "      <td>Andrea Weiss</td>\n",
       "      <td>cuny city college</td>\n",
       "      <td>None</td>\n",
       "      <td>None</td>\n",
       "      <td>None</td>\n",
       "      <td></td>\n",
       "    </tr>\n",
       "    <tr>\n",
       "      <th>7996</th>\n",
       "      <td>Andrea Welch chicago state university</td>\n",
       "      <td>Andrea Welch</td>\n",
       "      <td>chicago state university</td>\n",
       "      <td>None</td>\n",
       "      <td>None</td>\n",
       "      <td>None</td>\n",
       "      <td></td>\n",
       "    </tr>\n",
       "    <tr>\n",
       "      <th>7997</th>\n",
       "      <td>Andrea Whipplesamuel university of california-...</td>\n",
       "      <td>Andrea Whipplesamuel</td>\n",
       "      <td>university of california-berkeley</td>\n",
       "      <td>None</td>\n",
       "      <td>None</td>\n",
       "      <td>None</td>\n",
       "      <td></td>\n",
       "    </tr>\n",
       "    <tr>\n",
       "      <th>7998</th>\n",
       "      <td>Andrea Whitfield east carolina university</td>\n",
       "      <td>Andrea Whitfield</td>\n",
       "      <td>east carolina university</td>\n",
       "      <td>None</td>\n",
       "      <td>None</td>\n",
       "      <td>None</td>\n",
       "      <td></td>\n",
       "    </tr>\n",
       "    <tr>\n",
       "      <th>7999</th>\n",
       "      <td>Andrea Whitley university of north carolina at...</td>\n",
       "      <td>Andrea Whitley</td>\n",
       "      <td>university of north carolina at greensboro</td>\n",
       "      <td>None</td>\n",
       "      <td>None</td>\n",
       "      <td>None</td>\n",
       "      <td></td>\n",
       "    </tr>\n",
       "  </tbody>\n",
       "</table>\n",
       "<p>8000 rows × 7 columns</p>\n",
       "</div>"
      ],
      "text/plain": [
       "                                                id_text               id_name  \\\n",
       "0                     university of california-berkeley                         \n",
       "1                  Aditya purdue university-main campus                Aditya   \n",
       "2                   Adler purdue university-main campus                 Adler   \n",
       "3           Aguilera the university of texas at el paso              Aguilera   \n",
       "4                   Ahuja purdue university-main campus                 Ahuja   \n",
       "...                                                 ...                   ...   \n",
       "7995                     Andrea Weiss cuny city college          Andrea Weiss   \n",
       "7996              Andrea Welch chicago state university          Andrea Welch   \n",
       "7997  Andrea Whipplesamuel university of california-...  Andrea Whipplesamuel   \n",
       "7998          Andrea Whitfield east carolina university      Andrea Whitfield   \n",
       "7999  Andrea Whitley university of north carolina at...        Andrea Whitley   \n",
       "\n",
       "                                   id_university isProfessor isProfessor2  \\\n",
       "0              university of california-berkeley        None         None   \n",
       "1                  purdue university-main campus        None         None   \n",
       "2                  purdue university-main campus        None         None   \n",
       "3             the university of texas at el paso        None         None   \n",
       "4                  purdue university-main campus        None         None   \n",
       "...                                          ...         ...          ...   \n",
       "7995                           cuny city college        None         None   \n",
       "7996                    chicago state university        None         None   \n",
       "7997           university of california-berkeley        None         None   \n",
       "7998                    east carolina university        None         None   \n",
       "7999  university of north carolina at greensboro        None         None   \n",
       "\n",
       "                                                rawText department  \n",
       "0     [Get step-by-step guidance through the applica...             \n",
       "1     [Aditya Anand Singh, Graduate Student // Polit...             \n",
       "2     [Purdue University College of Science. Purdue ...             \n",
       "3     [Aguilera earned his BS and MS degrees in Micr...             \n",
       "4     [Education: Purdue University - The Graduate S...             \n",
       "...                                                 ...        ...  \n",
       "7995                                               None             \n",
       "7996                                               None             \n",
       "7997                                               None             \n",
       "7998                                               None             \n",
       "7999                                               None             \n",
       "\n",
       "[8000 rows x 7 columns]"
      ]
     },
     "execution_count": 9,
     "metadata": {},
     "output_type": "execute_result"
    }
   ],
   "source": [
    "df_uncompleted = pd.read_parquet('uncomplete.parquet',engine='pyarrow')\n",
    "df_uncompleted.head(8000)"
   ]
  }
 ],
 "metadata": {
  "kernelspec": {
   "display_name": ".venv",
   "language": "python",
   "name": "python3"
  },
  "language_info": {
   "codemirror_mode": {
    "name": "ipython",
    "version": 3
   },
   "file_extension": ".py",
   "mimetype": "text/x-python",
   "name": "python",
   "nbconvert_exporter": "python",
   "pygments_lexer": "ipython3",
   "version": "3.10.4"
  },
  "orig_nbformat": 4
 },
 "nbformat": 4,
 "nbformat_minor": 2
}
