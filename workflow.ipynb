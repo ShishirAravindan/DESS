{
 "cells": [
  {
   "cell_type": "markdown",
   "metadata": {},
   "source": [
    "# `DESS`: End-to-End Workflow"
   ]
  },
  {
   "cell_type": "markdown",
   "metadata": {},
   "source": [
    "## Imports & Config"
   ]
  },
  {
   "cell_type": "code",
   "execution_count": 1,
   "metadata": {},
   "outputs": [],
   "source": [
    "import pandas as pd\n",
    "\n",
    "# Importing custom utilities\n",
    "import stats as stats\n",
    "import data_pipeline_manager as dpm\n",
    "import dess.search as search\n",
    "import dess.nlp as nlp"
   ]
  },
  {
   "cell_type": "code",
   "execution_count": 2,
   "metadata": {},
   "outputs": [],
   "source": [
    "INPUT_FILE = 'storage/input.dta'\n",
    "UPLOAD_FILE_PATH = 'storage/completed_DepartmenttoSearch_November2024.dta'\n",
    "COMPLETE_FILE_PATH = 'storage/complete.parquet'\n",
    "REPROCESS_FILE_PATH = 'storage/reprocess.parquet'\n",
    "UNCOMPLETE_FILE_PATH = 'storage/uncomplete.parquet'"
   ]
  },
  {
   "cell_type": "markdown",
   "metadata": {},
   "source": [
    "## Data Prereprocessing\n",
    "\n",
    "We recieve a file from Dropbox that we pass through our data pipeline to merge into our internal existing parquet files. Also, in this stage, we add relevant columns to `uncompleted.parquet`."
   ]
  },
  {
   "cell_type": "code",
   "execution_count": 3,
   "metadata": {},
   "outputs": [],
   "source": [
    "df_master = pd.read_stata(INPUT_FILE)\n",
    "df_c = pd.read_parquet(COMPLETE_FILE_PATH)\n",
    "df_r = pd.read_parquet(REPROCESS_FILE_PATH)"
   ]
  },
  {
   "cell_type": "code",
   "execution_count": null,
   "metadata": {},
   "outputs": [],
   "source": [
    "stats.get_expected_file_split_stats(df_master, df_c, df_r)"
   ]
  },
  {
   "cell_type": "code",
   "execution_count": null,
   "metadata": {},
   "outputs": [],
   "source": [
    "df_u = dpm.get_new_rows()\n",
    "df_u"
   ]
  },
  {
   "cell_type": "code",
   "execution_count": null,
   "metadata": {},
   "outputs": [],
   "source": [
    "df_u = dpm.prepare_dess_data_structure(df_u)\n",
    "df_u"
   ]
  },
  {
   "cell_type": "code",
   "execution_count": null,
   "metadata": {},
   "outputs": [],
   "source": [
    "dpm.write_to_file(UNCOMPLETE_FILE_PATH, df_u, overwrite=True)"
   ]
  },
  {
   "cell_type": "markdown",
   "metadata": {},
   "source": [
    "## Processing Data\n",
    "In our existing workflow, we have three high-level functions that should be modularized since they may be used in any order. These are:\n",
    "- **Scrape** — search for faculty information (from Google)\n",
    "- **Extract** — Based on snapshots from Google search results, extract relevant faculty information.\n",
    "- **Merge** — Update our files with new information."
   ]
  },
  {
   "cell_type": "markdown",
   "metadata": {},
   "source": [
    "### Scraping\n",
    "Run the processing script on `uncompleted.parquet`. Code block included below is meant for demonstrations purposes. It's preferable to run this process in a separate terminal window to easily track processing."
   ]
  },
  {
   "cell_type": "code",
   "execution_count": null,
   "metadata": {
    "vscode": {
     "languageId": "shellscript"
    }
   },
   "outputs": [],
   "source": [
    "caffeinate -dui python3 search.py [start_index]"
   ]
  },
  {
   "cell_type": "markdown",
   "metadata": {},
   "source": [
    "To check the progress of the scraping script, run the following block. It will provide an update on number of chunks processed, and percentage of entire file processed so far."
   ]
  },
  {
   "cell_type": "code",
   "execution_count": null,
   "metadata": {},
   "outputs": [],
   "source": [
    "df_u = pd.read_parquet(UNCOMPLETE_FILE_PATH)\n",
    "stats.get_chunk_processing_stats(df_u, CHUNK_SIZE=200)"
   ]
  },
  {
   "cell_type": "code",
   "execution_count": null,
   "metadata": {},
   "outputs": [],
   "source": [
    "df_u"
   ]
  },
  {
   "cell_type": "markdown",
   "metadata": {},
   "source": [
    "### Department Extraction\n",
    "- Call `populate_faculty` on file"
   ]
  },
  {
   "cell_type": "code",
   "execution_count": null,
   "metadata": {},
   "outputs": [],
   "source": [
    "nlp.extract_department_information(df_c) # modifes relevant columns in place\n",
    "df_c"
   ]
  },
  {
   "cell_type": "code",
   "execution_count": null,
   "metadata": {},
   "outputs": [],
   "source": [
    "dpm.write_to_file(COMPLETE_FILE_PATH, df_c, overwrite=True)"
   ]
  },
  {
   "cell_type": "markdown",
   "metadata": {},
   "source": [
    "### Data merging\n",
    "Often the scraping process is run in parallel so we have utilites to stitch together the complete file."
   ]
  },
  {
   "cell_type": "code",
   "execution_count": null,
   "metadata": {},
   "outputs": [],
   "source": [
    "df_u_full = dpm.get_merged_data_from_parallel_scrape(pd.read_parquet('storage/uncomplete-akhil.parquet'),\n",
    "                                                 pd.read_parquet('storage/uncomplete.parquet'))\n",
    "dpm.write_to_file(UNCOMPLETE_FILE_PATH, df_u_full, overwrite=True)"
   ]
  },
  {
   "cell_type": "markdown",
   "metadata": {},
   "source": [
    "We also want to merge the scraped and faculty-filled information to other internal files."
   ]
  },
  {
   "cell_type": "code",
   "execution_count": null,
   "metadata": {},
   "outputs": [],
   "source": [
    "# add rows to `completed.parquet` and `reprocessed.parquet` and remove rows from `uncompleted.parquet`\n",
    "# Will provide error messages for any conflicts. Returns the updated dataframes\n",
    "df_c, df_r = dpm.update_internal_files(df_c, df_r, df_u_full)\n",
    "\n",
    "# TODO: write back\n",
    "dpm.write_to_file(COMPLETE_FILE_PATH, df_c, overwrite=True)\n",
    "dpm.write_to_file(REPROCESS_FILE_PATH, df_r, overwrite=True)"
   ]
  },
  {
   "cell_type": "markdown",
   "metadata": {},
   "source": [
    "## Post-Processing\n",
    "To geta status update about the dataset—i.e. to get an overview of the completion rates and conversion rates—run the following block."
   ]
  },
  {
   "cell_type": "code",
   "execution_count": null,
   "metadata": {},
   "outputs": [],
   "source": [
    "df_result = pd.read_parquet(COMPLETE_FILE_PATH)"
   ]
  },
  {
   "cell_type": "code",
   "execution_count": 4,
   "metadata": {},
   "outputs": [
    {
     "name": "stdout",
     "output_type": "stream",
     "text": [
      "\n",
      " ________________________________________________ \n",
      "|      STATS FOR: storage/complete.parquet       |\n",
      "|________________________________________________|\n",
      "|============= Professor Statistics =============|\n",
      "|Total Number of Records:                 437968 |\n",
      "|Number of Professors:                    295796 |\n",
      "|Number of Professors with Department:    233513 |\n",
      "|Number of Professors without Department: 62283  |\n",
      "|________________________________________________|\n",
      "|=============== Conversion Rates ===============|\n",
      "|Professor Identification Rate (%):       67.54  |\n",
      "|Department Extraction Rate (coverage %): 78.94  |\n",
      "|Department Coverage Gap (slippage %):    21.06  |\n",
      "|________________________________________________|\n"
     ]
    }
   ],
   "source": [
    "stats.get_dataset_stats(COMPLETE_FILE_PATH)"
   ]
  },
  {
   "cell_type": "markdown",
   "metadata": {},
   "source": [
    "To backup the results (i.e. upload to Dropbox), run the following blocks:"
   ]
  },
  {
   "cell_type": "code",
   "execution_count": 5,
   "metadata": {},
   "outputs": [
    {
     "name": "stdout",
     "output_type": "stream",
     "text": [
      "Successfully generated storage/completed_DepartmenttoSearch_November2024_2.dta\n"
     ]
    }
   ],
   "source": [
    "dpm.create_stata_output_file(\"completed_DepartmenttoSearch_November2024_2.dta\")"
   ]
  },
  {
   "cell_type": "code",
   "execution_count": 4,
   "metadata": {},
   "outputs": [
    {
     "name": "stdout",
     "output_type": "stream",
     "text": [
      "Uploading: completed_DepartmenttoSearch_November2024_2.dta\n",
      "\tSuccessfully uploaded completed_DepartmenttoSearch_November2024_2.dta to /backup-sync/completed_DepartmenttoSearch_November2024_2.dta\n",
      "Uploading: completed_conflicts.csv\n",
      "\tSuccessfully uploaded completed_conflicts.csv to /backup-sync/completed_conflicts.csv\n",
      "Skipping: .DS_Store\n",
      "Uploading: reprocess.parquet\n",
      "\tSuccessfully uploaded reprocess.parquet to /backup-sync/reprocess.parquet\n",
      "Uploading: complete.parquet\n",
      "\tSuccessfully uploaded complete.parquet to /backup-sync/complete.parquet\n",
      "Skipping: input.dta\n",
      "Uploading: uncomplete.parquet\n",
      "\tSuccessfully uploaded uncomplete.parquet to /backup-sync/uncomplete.parquet\n"
     ]
    }
   ],
   "source": [
    "dpm.orchestrate_upload_workflow()"
   ]
  },
  {
   "cell_type": "code",
   "execution_count": 6,
   "metadata": {},
   "outputs": [
    {
     "data": {
      "text/html": [
       "<div>\n",
       "<style scoped>\n",
       "    .dataframe tbody tr th:only-of-type {\n",
       "        vertical-align: middle;\n",
       "    }\n",
       "\n",
       "    .dataframe tbody tr th {\n",
       "        vertical-align: top;\n",
       "    }\n",
       "\n",
       "    .dataframe thead th {\n",
       "        text-align: right;\n",
       "    }\n",
       "</style>\n",
       "<table border=\"1\" class=\"dataframe\">\n",
       "  <thead>\n",
       "    <tr style=\"text-align: right;\">\n",
       "      <th></th>\n",
       "      <th>fullid</th>\n",
       "      <th>id_text</th>\n",
       "      <th>id_name</th>\n",
       "      <th>id_university</th>\n",
       "      <th>isProfessor</th>\n",
       "      <th>rawText</th>\n",
       "      <th>department</th>\n",
       "      <th>isProfessor2</th>\n",
       "    </tr>\n",
       "  </thead>\n",
       "  <tbody>\n",
       "    <tr>\n",
       "      <th>0</th>\n",
       "      <td>NaN</td>\n",
       "      <td>Zwygartstauffacher university of iowa</td>\n",
       "      <td>Zwygartstauffacher</td>\n",
       "      <td>university of iowa</td>\n",
       "      <td>True</td>\n",
       "      <td>[Mary Zwygart-Stauffacher's 32 research works ...</td>\n",
       "      <td>MISSING</td>\n",
       "      <td>False</td>\n",
       "    </tr>\n",
       "    <tr>\n",
       "      <th>1</th>\n",
       "      <td>3.0</td>\n",
       "      <td>A Abanov texas a and m university</td>\n",
       "      <td>A Abanov</td>\n",
       "      <td>texas a and m university</td>\n",
       "      <td>True</td>\n",
       "      <td>[Welcome to the Condensed Matter research grou...</td>\n",
       "      <td>physics</td>\n",
       "      <td>True</td>\n",
       "    </tr>\n",
       "    <tr>\n",
       "      <th>2</th>\n",
       "      <td>4.0</td>\n",
       "      <td>A Abbassi texas a and m university-commerce</td>\n",
       "      <td>A Abbassi</td>\n",
       "      <td>texas a and m university-commerce</td>\n",
       "      <td>True</td>\n",
       "      <td>[Amir Abbassi, Associate Professor, Counseling...</td>\n",
       "      <td>MISSING</td>\n",
       "      <td>False</td>\n",
       "    </tr>\n",
       "    <tr>\n",
       "      <th>3</th>\n",
       "      <td>5.0</td>\n",
       "      <td>A Abdullat west texas a and m university</td>\n",
       "      <td>A Abdullat</td>\n",
       "      <td>west texas a and m university</td>\n",
       "      <td>True</td>\n",
       "      <td>[Dr. Abdullat serves as the Dean and a Profess...</td>\n",
       "      <td>Computer</td>\n",
       "      <td>True</td>\n",
       "    </tr>\n",
       "    <tr>\n",
       "      <th>4</th>\n",
       "      <td>6.0</td>\n",
       "      <td>A Abramovitc texas state</td>\n",
       "      <td>A Abramovitc</td>\n",
       "      <td>texas state</td>\n",
       "      <td>True</td>\n",
       "      <td>[Assistant Professor, UAC 253C. Office Hours: ...</td>\n",
       "      <td>Psychology</td>\n",
       "      <td>True</td>\n",
       "    </tr>\n",
       "    <tr>\n",
       "      <th>...</th>\n",
       "      <td>...</td>\n",
       "      <td>...</td>\n",
       "      <td>...</td>\n",
       "      <td>...</td>\n",
       "      <td>...</td>\n",
       "      <td>...</td>\n",
       "      <td>...</td>\n",
       "      <td>...</td>\n",
       "    </tr>\n",
       "    <tr>\n",
       "      <th>437963</th>\n",
       "      <td>NaN</td>\n",
       "      <td>Zoran Brkanac university of washington-seattle...</td>\n",
       "      <td>Zoran Brkanac</td>\n",
       "      <td>university of washington-seattle campus</td>\n",
       "      <td>False</td>\n",
       "      <td>[Map location is approximate.Can you help us i...</td>\n",
       "      <td>MISSING</td>\n",
       "      <td>False</td>\n",
       "    </tr>\n",
       "    <tr>\n",
       "      <th>437964</th>\n",
       "      <td>NaN</td>\n",
       "      <td>Zoran Popovic university of washington-seattle...</td>\n",
       "      <td>Zoran Popovic</td>\n",
       "      <td>university of washington-seattle campus</td>\n",
       "      <td>True</td>\n",
       "      <td>[Zoran Popović. Professor. Director, Center fo...</td>\n",
       "      <td>Computer</td>\n",
       "      <td>True</td>\n",
       "    </tr>\n",
       "    <tr>\n",
       "      <th>437965</th>\n",
       "      <td>NaN</td>\n",
       "      <td>Zsolt Argenyi university of washington-seattle...</td>\n",
       "      <td>Zsolt Argenyi</td>\n",
       "      <td>university of washington-seattle campus</td>\n",
       "      <td>False</td>\n",
       "      <td>[Add business hours, Be the first to ask a que...</td>\n",
       "      <td>MISSING</td>\n",
       "      <td>False</td>\n",
       "    </tr>\n",
       "    <tr>\n",
       "      <th>437966</th>\n",
       "      <td>NaN</td>\n",
       "      <td>Zsolt Becsi southern illinois university-carbo...</td>\n",
       "      <td>Zsolt Becsi</td>\n",
       "      <td>southern illinois university-carbondale</td>\n",
       "      <td>True</td>\n",
       "      <td>[Zsolt Becsi, Associate Professor of Economics...</td>\n",
       "      <td>Economics</td>\n",
       "      <td>True</td>\n",
       "    </tr>\n",
       "    <tr>\n",
       "      <th>437967</th>\n",
       "      <td>NaN</td>\n",
       "      <td>Zyisha Avery west virginia state university</td>\n",
       "      <td>Zyisha Avery</td>\n",
       "      <td>west virginia state university</td>\n",
       "      <td>False</td>\n",
       "      <td>[Missing: Zyisha | Show results with: Zyisha, ...</td>\n",
       "      <td>MISSING</td>\n",
       "      <td>False</td>\n",
       "    </tr>\n",
       "  </tbody>\n",
       "</table>\n",
       "<p>437968 rows × 8 columns</p>\n",
       "</div>"
      ],
      "text/plain": [
       "        fullid                                            id_text  \\\n",
       "0          NaN              Zwygartstauffacher university of iowa   \n",
       "1          3.0                  A Abanov texas a and m university   \n",
       "2          4.0        A Abbassi texas a and m university-commerce   \n",
       "3          5.0           A Abdullat west texas a and m university   \n",
       "4          6.0                           A Abramovitc texas state   \n",
       "...        ...                                                ...   \n",
       "437963     NaN  Zoran Brkanac university of washington-seattle...   \n",
       "437964     NaN  Zoran Popovic university of washington-seattle...   \n",
       "437965     NaN  Zsolt Argenyi university of washington-seattle...   \n",
       "437966     NaN  Zsolt Becsi southern illinois university-carbo...   \n",
       "437967     NaN        Zyisha Avery west virginia state university   \n",
       "\n",
       "                    id_name                            id_university  \\\n",
       "0        Zwygartstauffacher                       university of iowa   \n",
       "1                  A Abanov                 texas a and m university   \n",
       "2                 A Abbassi        texas a and m university-commerce   \n",
       "3                A Abdullat            west texas a and m university   \n",
       "4              A Abramovitc                              texas state   \n",
       "...                     ...                                      ...   \n",
       "437963        Zoran Brkanac  university of washington-seattle campus   \n",
       "437964        Zoran Popovic  university of washington-seattle campus   \n",
       "437965        Zsolt Argenyi  university of washington-seattle campus   \n",
       "437966          Zsolt Becsi  southern illinois university-carbondale   \n",
       "437967         Zyisha Avery           west virginia state university   \n",
       "\n",
       "        isProfessor                                            rawText  \\\n",
       "0              True  [Mary Zwygart-Stauffacher's 32 research works ...   \n",
       "1              True  [Welcome to the Condensed Matter research grou...   \n",
       "2              True  [Amir Abbassi, Associate Professor, Counseling...   \n",
       "3              True  [Dr. Abdullat serves as the Dean and a Profess...   \n",
       "4              True  [Assistant Professor, UAC 253C. Office Hours: ...   \n",
       "...             ...                                                ...   \n",
       "437963        False  [Map location is approximate.Can you help us i...   \n",
       "437964         True  [Zoran Popović. Professor. Director, Center fo...   \n",
       "437965        False  [Add business hours, Be the first to ask a que...   \n",
       "437966         True  [Zsolt Becsi, Associate Professor of Economics...   \n",
       "437967        False  [Missing: Zyisha | Show results with: Zyisha, ...   \n",
       "\n",
       "        department  isProfessor2  \n",
       "0          MISSING         False  \n",
       "1          physics          True  \n",
       "2          MISSING         False  \n",
       "3         Computer          True  \n",
       "4       Psychology          True  \n",
       "...            ...           ...  \n",
       "437963     MISSING         False  \n",
       "437964    Computer          True  \n",
       "437965     MISSING         False  \n",
       "437966   Economics          True  \n",
       "437967     MISSING         False  \n",
       "\n",
       "[437968 rows x 8 columns]"
      ]
     },
     "execution_count": 6,
     "metadata": {},
     "output_type": "execute_result"
    }
   ],
   "source": [
    "df_c = pd.read_parquet(COMPLETE_FILE_PATH)\n",
    "df_c"
   ]
  }
 ],
 "metadata": {
  "kernelspec": {
   "display_name": ".dessVenv",
   "language": "python",
   "name": "python3"
  },
  "language_info": {
   "codemirror_mode": {
    "name": "ipython",
    "version": 3
   },
   "file_extension": ".py",
   "mimetype": "text/x-python",
   "name": "python",
   "nbconvert_exporter": "python",
   "pygments_lexer": "ipython3",
   "version": "3.11.6"
  }
 },
 "nbformat": 4,
 "nbformat_minor": 2
}
