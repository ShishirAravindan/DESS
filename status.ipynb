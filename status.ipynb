{
 "cells": [
  {
   "cell_type": "code",
   "execution_count": 328,
   "metadata": {},
   "outputs": [],
   "source": [
    "import pandas as pd"
   ]
  },
  {
   "cell_type": "code",
   "execution_count": 329,
   "metadata": {},
   "outputs": [],
   "source": [
    "LOCAL_PARQUET_PATH = 'storage/todo.parquet'\n",
    "CHUNK_SIZE = 200\n",
    "df = pd.read_parquet(LOCAL_PARQUET_PATH)"
   ]
  },
  {
   "cell_type": "code",
   "execution_count": null,
   "metadata": {},
   "outputs": [],
   "source": [
    "def statusUpdate(df):\n",
    "    total_chunks = len(df) // CHUNK_SIZE + (1 if len(df) % CHUNK_SIZE != 0 else 0)\n",
    "    processed_chunks = 0\n",
    "    \n",
    "    non_null_rows = 0\n",
    "    last_five_non_null = [0] * 5 # Track non-null counts for the last five chunks\n",
    "    \n",
    "    for i in range(0, len(df), CHUNK_SIZE):\n",
    "        chunk = df.iloc[i:i+CHUNK_SIZE]\n",
    "\n",
    "        non_null_count = chunk['rawText'].notnull().sum()\n",
    "        non_null_rows += non_null_count\n",
    "        last_five_non_null[processed_chunks % 5] = non_null_count\n",
    "\n",
    "        # Check if the entire chunk's rawText column is null\n",
    "        if chunk['rawText'].isnull().all():\n",
    "            processed_percentage = (processed_chunks / total_chunks) * 100\n",
    "            conversion_rate = (non_null_rows / len(df)) * 100\n",
    "            last_five_conversion_rate = (sum(last_five_non_null) / (CHUNK_SIZE * 5)) * 100\n",
    "            \n",
    "            # Print results in a more readable format\n",
    "            print(f\"\\n{'Progress Summary':^40}\")\n",
    "            print(f\"{'Processed Chunks':<20}{'Total Chunks':<20}{'Percentage':<20}\")\n",
    "            print(f\"{processed_chunks:<20}{total_chunks:<20}{processed_percentage:.2f}%\")\n",
    "            \n",
    "            print(\"\\nConversion Rates:\")\n",
    "            print(f\"{'Metric':<30}{'Value'}\")\n",
    "            print(f\"{'Overall Conversion Rate':<30}{conversion_rate:.2f}%\")\n",
    "            print(f\"{'Last 5 Chunks Conversion Rate':<30}{last_five_conversion_rate:.2f}%\")\n",
    "\n",
    "            preview = pd.concat([df.iloc[max(0, i-CHUNK_SIZE):i].tail(5), df.iloc[i:i+CHUNK_SIZE].head(5)])\n",
    "            return preview\n",
    "\n",
    "        processed_chunks += 1\n",
    "preview = statusUpdate(df)\n",
    "preview"
   ]
  }
 ],
 "metadata": {
  "kernelspec": {
   "display_name": ".dessVenv",
   "language": "python",
   "name": "python3"
  },
  "language_info": {
   "codemirror_mode": {
    "name": "ipython",
    "version": 3
   },
   "file_extension": ".py",
   "mimetype": "text/x-python",
   "name": "python",
   "nbconvert_exporter": "python",
   "pygments_lexer": "ipython3",
   "version": "3.11.6"
  }
 },
 "nbformat": 4,
 "nbformat_minor": 2
}
